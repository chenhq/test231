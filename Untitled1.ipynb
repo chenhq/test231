{
 "cells": [
  {
   "cell_type": "code",
   "execution_count": 1,
   "metadata": {},
   "outputs": [
    {
     "name": "stderr",
     "output_type": "stream",
     "text": [
      "Using TensorFlow backend.\n"
     ]
    }
   ],
   "source": [
    "%matplotlib inline\n",
    "import numpy as np\n",
    "import pandas as pd\n",
    "from data_prepare import *\n",
    "import matplotlib.pyplot as plt\n",
    "from params_select import *\n",
    "import hyperopt.pyll.stochastic\n",
    "from hyperopt import fmin, tpe, hp, STATUS_OK, Trials, partial, rand, space_eval"
   ]
  },
  {
   "cell_type": "code",
   "execution_count": 2,
   "metadata": {
    "scrolled": true
   },
   "outputs": [],
   "source": [
    "# market = pd.read_csv(\"~/cs_market.csv\", parse_dates=[\"date\"], dtype={\"code\": str})\n",
    "market = pd.read_csv(\"E:\\market_data/cs_market.csv\", parse_dates=[\"date\"], dtype={\"code\": str})\n",
    "all_ohlcv = market.drop([\"Unnamed: 0\", \"total_turnover\", \"limit_up\", \"limit_down\"], axis=1)\n",
    "all_ohlcv = all_ohlcv.set_index('date')\n",
    "ohlcv = all_ohlcv[all_ohlcv[\"code\"] == \"000725.XSHE\"].drop(\"code\", axis=1)\n",
    "\n",
    "features = construct_features(ohlcv, construct_features1)\n",
    "\n",
    "features_categorical, reverse_func = to_categorical(features.copy(), 'label', categorical_func_factory)\n",
    "\n",
    "space = default_space\n"
   ]
  },
  {
   "cell_type": "code",
   "execution_count": null,
   "metadata": {},
   "outputs": [],
   "source": [
    "objective_func = construct_objective1(features_categorical, \"logs\")\n",
    "trials = Trials()\n",
    "best = fmin(objective_func, space, algo=tpe.suggest, max_evals=40, trials=trials)\n",
    "print(best)"
   ]
  },
  {
   "cell_type": "code",
   "execution_count": null,
   "metadata": {},
   "outputs": [],
   "source": [
    "x = ohlcv.head(100)['open'].unique()"
   ]
  }
 ],
 "metadata": {
  "kernelspec": {
   "display_name": "Python 3",
   "language": "python",
   "name": "python3"
  },
  "language_info": {
   "codemirror_mode": {
    "name": "ipython",
    "version": 3
   },
   "file_extension": ".py",
   "mimetype": "text/x-python",
   "name": "python",
   "nbconvert_exporter": "python",
   "pygments_lexer": "ipython3",
   "version": "3.6.3"
  }
 },
 "nbformat": 4,
 "nbformat_minor": 2
}

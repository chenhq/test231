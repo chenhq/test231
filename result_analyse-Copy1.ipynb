{
 "cells": [
  {
   "cell_type": "code",
   "execution_count": 186,
   "metadata": {},
   "outputs": [],
   "source": [
    "%matplotlib inline\n",
    "import matplotlib.pylab as plt\n",
    "import seaborn as sbn; sbn.set()\n",
    "import os\n",
    "import numpy as np\n",
    "import pandas as pd\n",
    "import _pickle as pickle\n",
    "from data_prepare import categorical_factory"
   ]
  },
  {
   "cell_type": "code",
   "execution_count": 187,
   "metadata": {},
   "outputs": [],
   "source": [
    "import collections\n",
    "\n",
    "def flatten_dict(d, parent_key='', sep='_'):\n",
    "    items = []\n",
    "    for k, v in d.items():\n",
    "        new_key = parent_key + sep + k if parent_key else k\n",
    "        if isinstance(v, collections.MutableMapping):\n",
    "            items.extend(flatten_dict(v, new_key, sep=sep).items())\n",
    "        else:\n",
    "            items.append((new_key, v))\n",
    "    return dict(items)"
   ]
  },
  {
   "cell_type": "code",
   "execution_count": 188,
   "metadata": {},
   "outputs": [],
   "source": [
    "figsize = (21, 7)"
   ]
  },
  {
   "cell_type": "code",
   "execution_count": 189,
   "metadata": {},
   "outputs": [],
   "source": [
    "test_name = 'params_select'\n",
    "test_id = 'zz500_10'\n",
    "# test_id = 'xxxx03'\n",
    "test_dir = './' + test_name + '_' + test_id + '/' "
   ]
  },
  {
   "cell_type": "markdown",
   "metadata": {},
   "source": [
    "# ohlcv"
   ]
  },
  {
   "cell_type": "code",
   "execution_count": 190,
   "metadata": {},
   "outputs": [],
   "source": [
    "ohlcv_list_file = os.path.join(test_dir, 'ohlcv_list.pkl')\n",
    "ohlcv_list = pickle.load(open(ohlcv_list_file, 'rb'))\n",
    "ohlcvs = pd.concat(ohlcv_list, axis=0)"
   ]
  },
  {
   "cell_type": "markdown",
   "metadata": {},
   "source": [
    "# subtest"
   ]
  },
  {
   "cell_type": "code",
   "execution_count": 191,
   "metadata": {},
   "outputs": [],
   "source": [
    "df_params = pd.DataFrame()\n",
    "features_list_dict = {}\n",
    "df_data_set = pd.DataFrame()\n",
    "df_historys = pd.DataFrame()\n",
    "df_performances = pd.DataFrame()\n",
    "for root, dirs, files in os.walk(test_dir, topdown=False):\n",
    "    identity = os.path.basename(root)\n",
    "    for name in files:\n",
    "        with open(os.path.join(root, name), 'rb') as f:\n",
    "            data = pickle.load(f)\n",
    "            if name == 'params.pkl':\n",
    "                params = data\n",
    "                params['id'] = identity\n",
    "                df_params = df_params.append(flatten_dict(params), ignore_index=True)\n",
    "            if name == 'features_list.pkl':\n",
    "                features_list = data\n",
    "                features_list_dict[identity] = features_list\n",
    "            if name == 'data_set.pkl':\n",
    "                data_set = data\n",
    "                data_set['id'] = identity\n",
    "                df_data_set = df_data_set.append(flatten_dict(data_set), ignore_index=True)\n",
    "            if name == 'history.pkl':\n",
    "                history = data\n",
    "                df_historys = df_historys.append({'id': identity, 'history': history}, ignore_index=True)\n",
    "            if name == 'performances.pkl':\n",
    "                performances = data\n",
    "                performances['id'] = identity\n",
    "                df_performances = df_performances.append(flatten_dict(performances), ignore_index=True)\n",
    "\n",
    "df_params = df_params.set_index('id')\n",
    "df_data_set = df_data_set.set_index('id')\n",
    "df_historys = df_historys.set_index('id')\n",
    "df_performances = df_performances.set_index('id')"
   ]
  },
  {
   "cell_type": "code",
   "execution_count": 192,
   "metadata": {},
   "outputs": [
    {
     "data": {
      "text/plain": [
       "Index(['test_Y', 'test_Y0', 'test_annual_return', 'test_cum_returns',\n",
       "       'test_loss', 'test_metrics', 'test_returns', 'test_sharpe_ratio',\n",
       "       'validate_Y', 'validate_Y0', 'validate_annual_return',\n",
       "       'validate_cum_returns', 'validate_loss', 'validate_metrics',\n",
       "       'validate_returns', 'validate_sharpe_ratio'],\n",
       "      dtype='object')"
      ]
     },
     "execution_count": 192,
     "metadata": {},
     "output_type": "execute_result"
    }
   ],
   "source": [
    "df_performances.columns"
   ]
  },
  {
   "cell_type": "code",
   "execution_count": 193,
   "metadata": {},
   "outputs": [],
   "source": [
    "perf = df_performances[['validate_annual_return', 'validate_sharpe_ratio', 'validate_loss', 'validate_metrics', \n",
    "                        'test_annual_return', 'test_sharpe_ratio', 'test_loss', 'test_metrics']]"
   ]
  },
  {
   "cell_type": "code",
   "execution_count": 194,
   "metadata": {},
   "outputs": [
    {
     "data": {
      "text/plain": [
       "Index(['features_kline_window', 'features_label_by_ma_price_next_ma_window',\n",
       "       'features_label_by_ma_price_quantile_list',\n",
       "       'features_label_by_ma_price_window', 'features_ma_ma_list',\n",
       "       'features_ma_price', 'features_ma_window', 'lstm_activation_last',\n",
       "       'lstm_batch_size', 'lstm_bias_initializer', 'lstm_dropout',\n",
       "       'lstm_epochs', 'lstm_kernel_initializer', 'lstm_layer1_activation',\n",
       "       'lstm_layer1_is_BN', 'lstm_layer1_units', 'lstm_layer2_activation',\n",
       "       'lstm_layer2_is_BN', 'lstm_layer2_units', 'lstm_layer3_activation',\n",
       "       'lstm_layer3_is_BN', 'lstm_layer3_units', 'lstm_loss_type', 'lstm_lr',\n",
       "       'lstm_recurrent_dropout', 'lstm_shuffle', 'lstm_time_steps',\n",
       "       'split_dates'],\n",
       "      dtype='object')"
      ]
     },
     "execution_count": 194,
     "metadata": {},
     "output_type": "execute_result"
    }
   ],
   "source": [
    "df_params.columns"
   ]
  },
  {
   "cell_type": "code",
   "execution_count": 195,
   "metadata": {},
   "outputs": [],
   "source": [
    "p_cols = ['features_kline_window', 'features_label_by_ma_price_next_ma_window',\n",
    "       'features_label_by_ma_price_quantile_list', \n",
    "       'features_label_by_ma_price_window', \n",
    "       'features_ma_window', 'lstm_batch_size', 'lstm_dropout',\n",
    "       'lstm_epochs', 'lstm_layer1_is_BN', 'lstm_layer1_units', 'lstm_layer2_is_BN', 'lstm_layer2_units',\n",
    "       'lstm_layer3_is_BN', 'lstm_layer3_units', 'lstm_lr',\n",
    "       'lstm_recurrent_dropout', 'lstm_shuffle', 'lstm_time_steps']"
   ]
  },
  {
   "cell_type": "code",
   "execution_count": 196,
   "metadata": {},
   "outputs": [],
   "source": [
    "parameters = df_params.loc[:, p_cols]"
   ]
  },
  {
   "cell_type": "code",
   "execution_count": 197,
   "metadata": {},
   "outputs": [],
   "source": [
    "perf_vs_params = pd.concat([perf, parameters], axis=1)"
   ]
  },
  {
   "cell_type": "code",
   "execution_count": 198,
   "metadata": {},
   "outputs": [],
   "source": [
    "top_validate = perf_vs_params.sort_values('validate_sharpe_ratio', ascending=0).head(8)\n",
    "top_test = perf_vs_params.sort_values('test_sharpe_ratio', ascending=0).head(8)"
   ]
  },
  {
   "cell_type": "code",
   "execution_count": 199,
   "metadata": {},
   "outputs": [],
   "source": [
    "tv = top_validate.mean()"
   ]
  },
  {
   "cell_type": "code",
   "execution_count": 200,
   "metadata": {},
   "outputs": [],
   "source": [
    "tt = top_test.mean()"
   ]
  },
  {
   "cell_type": "code",
   "execution_count": 201,
   "metadata": {},
   "outputs": [
    {
     "data": {
      "text/html": [
       "<div>\n",
       "<style scoped>\n",
       "    .dataframe tbody tr th:only-of-type {\n",
       "        vertical-align: middle;\n",
       "    }\n",
       "\n",
       "    .dataframe tbody tr th {\n",
       "        vertical-align: top;\n",
       "    }\n",
       "\n",
       "    .dataframe thead th {\n",
       "        text-align: right;\n",
       "    }\n",
       "</style>\n",
       "<table border=\"1\" class=\"dataframe\">\n",
       "  <thead>\n",
       "    <tr style=\"text-align: right;\">\n",
       "      <th></th>\n",
       "      <th>0</th>\n",
       "      <th>1</th>\n",
       "    </tr>\n",
       "  </thead>\n",
       "  <tbody>\n",
       "    <tr>\n",
       "      <th>validate_annual_return</th>\n",
       "      <td>0.382357</td>\n",
       "      <td>0.150386</td>\n",
       "    </tr>\n",
       "    <tr>\n",
       "      <th>validate_sharpe_ratio</th>\n",
       "      <td>1.845797</td>\n",
       "      <td>0.791150</td>\n",
       "    </tr>\n",
       "    <tr>\n",
       "      <th>validate_loss</th>\n",
       "      <td>1.094953</td>\n",
       "      <td>1.107081</td>\n",
       "    </tr>\n",
       "    <tr>\n",
       "      <th>validate_metrics</th>\n",
       "      <td>0.412109</td>\n",
       "      <td>0.380859</td>\n",
       "    </tr>\n",
       "    <tr>\n",
       "      <th>test_annual_return</th>\n",
       "      <td>0.008230</td>\n",
       "      <td>0.072656</td>\n",
       "    </tr>\n",
       "    <tr>\n",
       "      <th>test_sharpe_ratio</th>\n",
       "      <td>0.118312</td>\n",
       "      <td>0.855383</td>\n",
       "    </tr>\n",
       "    <tr>\n",
       "      <th>test_loss</th>\n",
       "      <td>1.082652</td>\n",
       "      <td>1.102884</td>\n",
       "    </tr>\n",
       "    <tr>\n",
       "      <th>test_metrics</th>\n",
       "      <td>0.400391</td>\n",
       "      <td>0.383464</td>\n",
       "    </tr>\n",
       "    <tr>\n",
       "      <th>features_label_by_ma_price_next_ma_window</th>\n",
       "      <td>3.000000</td>\n",
       "      <td>3.000000</td>\n",
       "    </tr>\n",
       "    <tr>\n",
       "      <th>features_label_by_ma_price_window</th>\n",
       "      <td>60.000000</td>\n",
       "      <td>60.000000</td>\n",
       "    </tr>\n",
       "    <tr>\n",
       "      <th>lstm_batch_size</th>\n",
       "      <td>64.000000</td>\n",
       "      <td>64.000000</td>\n",
       "    </tr>\n",
       "    <tr>\n",
       "      <th>lstm_dropout</th>\n",
       "      <td>0.300000</td>\n",
       "      <td>0.300000</td>\n",
       "    </tr>\n",
       "    <tr>\n",
       "      <th>lstm_epochs</th>\n",
       "      <td>1937.500000</td>\n",
       "      <td>1462.500000</td>\n",
       "    </tr>\n",
       "    <tr>\n",
       "      <th>lstm_layer1_is_BN</th>\n",
       "      <td>0.750000</td>\n",
       "      <td>0.750000</td>\n",
       "    </tr>\n",
       "    <tr>\n",
       "      <th>lstm_layer1_units</th>\n",
       "      <td>44.000000</td>\n",
       "      <td>84.000000</td>\n",
       "    </tr>\n",
       "    <tr>\n",
       "      <th>lstm_layer2_is_BN</th>\n",
       "      <td>0.125000</td>\n",
       "      <td>0.250000</td>\n",
       "    </tr>\n",
       "    <tr>\n",
       "      <th>lstm_layer2_units</th>\n",
       "      <td>60.000000</td>\n",
       "      <td>44.000000</td>\n",
       "    </tr>\n",
       "    <tr>\n",
       "      <th>lstm_layer3_is_BN</th>\n",
       "      <td>0.000000</td>\n",
       "      <td>0.250000</td>\n",
       "    </tr>\n",
       "    <tr>\n",
       "      <th>lstm_layer3_units</th>\n",
       "      <td>68.000000</td>\n",
       "      <td>82.000000</td>\n",
       "    </tr>\n",
       "    <tr>\n",
       "      <th>lstm_lr</th>\n",
       "      <td>0.000015</td>\n",
       "      <td>0.000031</td>\n",
       "    </tr>\n",
       "    <tr>\n",
       "      <th>lstm_recurrent_dropout</th>\n",
       "      <td>0.300000</td>\n",
       "      <td>0.300000</td>\n",
       "    </tr>\n",
       "    <tr>\n",
       "      <th>lstm_shuffle</th>\n",
       "      <td>0.000000</td>\n",
       "      <td>0.000000</td>\n",
       "    </tr>\n",
       "    <tr>\n",
       "      <th>lstm_time_steps</th>\n",
       "      <td>64.000000</td>\n",
       "      <td>64.000000</td>\n",
       "    </tr>\n",
       "  </tbody>\n",
       "</table>\n",
       "</div>"
      ],
      "text/plain": [
       "                                                     0            1\n",
       "validate_annual_return                        0.382357     0.150386\n",
       "validate_sharpe_ratio                         1.845797     0.791150\n",
       "validate_loss                                 1.094953     1.107081\n",
       "validate_metrics                              0.412109     0.380859\n",
       "test_annual_return                            0.008230     0.072656\n",
       "test_sharpe_ratio                             0.118312     0.855383\n",
       "test_loss                                     1.082652     1.102884\n",
       "test_metrics                                  0.400391     0.383464\n",
       "features_label_by_ma_price_next_ma_window     3.000000     3.000000\n",
       "features_label_by_ma_price_window            60.000000    60.000000\n",
       "lstm_batch_size                              64.000000    64.000000\n",
       "lstm_dropout                                  0.300000     0.300000\n",
       "lstm_epochs                                1937.500000  1462.500000\n",
       "lstm_layer1_is_BN                             0.750000     0.750000\n",
       "lstm_layer1_units                            44.000000    84.000000\n",
       "lstm_layer2_is_BN                             0.125000     0.250000\n",
       "lstm_layer2_units                            60.000000    44.000000\n",
       "lstm_layer3_is_BN                             0.000000     0.250000\n",
       "lstm_layer3_units                            68.000000    82.000000\n",
       "lstm_lr                                       0.000015     0.000031\n",
       "lstm_recurrent_dropout                        0.300000     0.300000\n",
       "lstm_shuffle                                  0.000000     0.000000\n",
       "lstm_time_steps                              64.000000    64.000000"
      ]
     },
     "execution_count": 201,
     "metadata": {},
     "output_type": "execute_result"
    }
   ],
   "source": [
    "pd.concat([tv, tt], axis=1)"
   ]
  },
  {
   "cell_type": "code",
   "execution_count": 202,
   "metadata": {},
   "outputs": [
    {
     "data": {
      "text/plain": [
       "validate_annual_return                          0.266371\n",
       "validate_sharpe_ratio                           1.353629\n",
       "validate_loss                                   1.101017\n",
       "validate_metrics                                0.396484\n",
       "test_annual_return                              0.040443\n",
       "test_sharpe_ratio                               0.486847\n",
       "test_loss                                       1.092768\n",
       "test_metrics                                    0.391927\n",
       "features_label_by_ma_price_next_ma_window       3.000000\n",
       "features_label_by_ma_price_window              60.000000\n",
       "lstm_batch_size                                64.000000\n",
       "lstm_dropout                                    0.300000\n",
       "lstm_epochs                                  1700.000000\n",
       "lstm_layer1_is_BN                               0.750000\n",
       "lstm_layer1_units                              64.000000\n",
       "lstm_layer2_is_BN                               0.187500\n",
       "lstm_layer2_units                              52.000000\n",
       "lstm_layer3_is_BN                               0.125000\n",
       "lstm_layer3_units                              75.000000\n",
       "lstm_lr                                         0.000023\n",
       "lstm_recurrent_dropout                          0.300000\n",
       "lstm_shuffle                                    0.000000\n",
       "lstm_time_steps                                64.000000\n",
       "dtype: float64"
      ]
     },
     "execution_count": 202,
     "metadata": {},
     "output_type": "execute_result"
    }
   ],
   "source": [
    "pd.concat([top_validate, top_test], axis=0).mean()"
   ]
  },
  {
   "cell_type": "code",
   "execution_count": 203,
   "metadata": {},
   "outputs": [
    {
     "data": {
      "text/plain": [
       "<matplotlib.axes._subplots.AxesSubplot at 0x7f4680f17b38>"
      ]
     },
     "execution_count": 203,
     "metadata": {},
     "output_type": "execute_result"
    },
    {
     "data": {
      "image/png": "[encoded data removed]",
      "text/plain": [
       "<matplotlib.figure.Figure at 0x7f4676789e10>"
      ]
     },
     "metadata": {},
     "output_type": "display_data"
    }
   ],
   "source": [
    "top = perf.sort_values('validate_sharpe_ratio', ascending=0)\n",
    "top[['validate_annual_return', 'validate_sharpe_ratio', 'test_annual_return', 'test_sharpe_ratio']].plot(figsize=figsize)"
   ]
  },
  {
   "cell_type": "code",
   "execution_count": 204,
   "metadata": {},
   "outputs": [
    {
     "data": {
      "text/plain": [
       "<matplotlib.axes._subplots.AxesSubplot at 0x7f467b9ac780>"
      ]
     },
     "execution_count": 204,
     "metadata": {},
     "output_type": "execute_result"
    },
    {
     "data": {
      "image/png": "[encoded data removed]",
      "text/plain": [
       "<matplotlib.figure.Figure at 0x7f4675af65c0>"
      ]
     },
     "metadata": {},
     "output_type": "display_data"
    }
   ],
   "source": [
    "top[['validate_loss', 'validate_metrics', 'test_loss', 'test_metrics']].plot(figsize=figsize)"
   ]
  },
  {
   "cell_type": "code",
   "execution_count": 166,
   "metadata": {},
   "outputs": [
    {
     "data": {
      "text/html": [
       "<div>\n",
       "<style scoped>\n",
       "    .dataframe tbody tr th:only-of-type {\n",
       "        vertical-align: middle;\n",
       "    }\n",
       "\n",
       "    .dataframe tbody tr th {\n",
       "        vertical-align: top;\n",
       "    }\n",
       "\n",
       "    .dataframe thead th {\n",
       "        text-align: right;\n",
       "    }\n",
       "</style>\n",
       "<table border=\"1\" class=\"dataframe\">\n",
       "  <thead>\n",
       "    <tr style=\"text-align: right;\">\n",
       "      <th></th>\n",
       "      <th>validate_annual_return</th>\n",
       "      <th>validate_sharpe_ratio</th>\n",
       "      <th>validate_loss</th>\n",
       "      <th>validate_metrics</th>\n",
       "      <th>test_annual_return</th>\n",
       "      <th>test_sharpe_ratio</th>\n",
       "      <th>test_loss</th>\n",
       "      <th>test_metrics</th>\n",
       "    </tr>\n",
       "    <tr>\n",
       "      <th>id</th>\n",
       "      <th></th>\n",
       "      <th></th>\n",
       "      <th></th>\n",
       "      <th></th>\n",
       "      <th></th>\n",
       "      <th></th>\n",
       "      <th></th>\n",
       "      <th></th>\n",
       "    </tr>\n",
       "  </thead>\n",
       "  <tbody>\n",
       "    <tr>\n",
       "      <th>46519264-f556-11e7-b733-525400f48026</th>\n",
       "      <td>0.186348</td>\n",
       "      <td>1.016830</td>\n",
       "      <td>1.091148</td>\n",
       "      <td>0.395833</td>\n",
       "      <td>-0.028386</td>\n",
       "      <td>-0.114967</td>\n",
       "      <td>1.087427</td>\n",
       "      <td>0.369792</td>\n",
       "    </tr>\n",
       "    <tr>\n",
       "      <th>a91fe146-f553-11e7-b733-525400f48026</th>\n",
       "      <td>0.071434</td>\n",
       "      <td>0.490615</td>\n",
       "      <td>1.092412</td>\n",
       "      <td>0.364583</td>\n",
       "      <td>-0.015943</td>\n",
       "      <td>-0.041369</td>\n",
       "      <td>1.069680</td>\n",
       "      <td>0.421875</td>\n",
       "    </tr>\n",
       "    <tr>\n",
       "      <th>a3761af4-f557-11e7-b733-525400f48026</th>\n",
       "      <td>0.018960</td>\n",
       "      <td>0.197941</td>\n",
       "      <td>1.103668</td>\n",
       "      <td>0.354167</td>\n",
       "      <td>-0.034554</td>\n",
       "      <td>-0.167240</td>\n",
       "      <td>1.064915</td>\n",
       "      <td>0.406250</td>\n",
       "    </tr>\n",
       "    <tr>\n",
       "      <th>52d15212-f552-11e7-b733-525400f48026</th>\n",
       "      <td>0.000000</td>\n",
       "      <td>NaN</td>\n",
       "      <td>1.118620</td>\n",
       "      <td>0.369792</td>\n",
       "      <td>0.000000</td>\n",
       "      <td>NaN</td>\n",
       "      <td>1.175497</td>\n",
       "      <td>0.302083</td>\n",
       "    </tr>\n",
       "  </tbody>\n",
       "</table>\n",
       "</div>"
      ],
      "text/plain": [
       "                                      validate_annual_return  \\\n",
       "id                                                             \n",
       "46519264-f556-11e7-b733-525400f48026                0.186348   \n",
       "a91fe146-f553-11e7-b733-525400f48026                0.071434   \n",
       "a3761af4-f557-11e7-b733-525400f48026                0.018960   \n",
       "52d15212-f552-11e7-b733-525400f48026                0.000000   \n",
       "\n",
       "                                      validate_sharpe_ratio  validate_loss  \\\n",
       "id                                                                           \n",
       "46519264-f556-11e7-b733-525400f48026               1.016830       1.091148   \n",
       "a91fe146-f553-11e7-b733-525400f48026               0.490615       1.092412   \n",
       "a3761af4-f557-11e7-b733-525400f48026               0.197941       1.103668   \n",
       "52d15212-f552-11e7-b733-525400f48026                    NaN       1.118620   \n",
       "\n",
       "                                      validate_metrics  test_annual_return  \\\n",
       "id                                                                           \n",
       "46519264-f556-11e7-b733-525400f48026          0.395833           -0.028386   \n",
       "a91fe146-f553-11e7-b733-525400f48026          0.364583           -0.015943   \n",
       "a3761af4-f557-11e7-b733-525400f48026          0.354167           -0.034554   \n",
       "52d15212-f552-11e7-b733-525400f48026          0.369792            0.000000   \n",
       "\n",
       "                                      test_sharpe_ratio  test_loss  \\\n",
       "id                                                                   \n",
       "46519264-f556-11e7-b733-525400f48026          -0.114967   1.087427   \n",
       "a91fe146-f553-11e7-b733-525400f48026          -0.041369   1.069680   \n",
       "a3761af4-f557-11e7-b733-525400f48026          -0.167240   1.064915   \n",
       "52d15212-f552-11e7-b733-525400f48026                NaN   1.175497   \n",
       "\n",
       "                                      test_metrics  \n",
       "id                                                  \n",
       "46519264-f556-11e7-b733-525400f48026      0.369792  \n",
       "a91fe146-f553-11e7-b733-525400f48026      0.421875  \n",
       "a3761af4-f557-11e7-b733-525400f48026      0.406250  \n",
       "52d15212-f552-11e7-b733-525400f48026      0.302083  "
      ]
     },
     "execution_count": 166,
     "metadata": {},
     "output_type": "execute_result"
    }
   ],
   "source": [
    "top"
   ]
  },
  {
   "cell_type": "code",
   "execution_count": null,
   "metadata": {},
   "outputs": [],
   "source": [
    "perf_vs_params.loc['975c812c-f525-11e7-b733-525400f48026']"
   ]
  },
  {
   "cell_type": "code",
   "execution_count": null,
   "metadata": {},
   "outputs": [],
   "source": [
    "perf_vs_params.loc['975c812c-f525-11e7-b733-525400f48026']"
   ]
  },
  {
   "cell_type": "code",
   "execution_count": null,
   "metadata": {},
   "outputs": [],
   "source": [
    "labels = train_ohlcv['label2'].unique().tolist()\n",
    "        labels.sort()\n",
    "        colors = cm.rainbow(np.linspace(0, 1, len(labels)))\n",
    "        for i in range(len(labels)):\n",
    "            label = labels[i]\n",
    "            c = colors[i]\n",
    "            selected = train_ohlcv[train_ohlcv['label2'] == label]\n",
    "            print(\"{}: {}\".format(label, len(selected) / len(train_ohlcv)))\n",
    "            if len(selected) > 0:\n",
    "                selected.plot.scatter(x='index', y='close', s=10, c=c, figsize=(21, 7), ax=ax, label=label)"
   ]
  },
  {
   "cell_type": "code",
   "execution_count": null,
   "metadata": {},
   "outputs": [],
   "source": [
    "nb_class = 3\n",
    "class_list = [i for i in range(nb_class)]\n",
    "_, reverse_categorical = categorical_factory(class_list)\n",
    "data['label2'] = data['label'].map(reverse_categorical)"
   ]
  },
  {
   "cell_type": "code",
   "execution_count": null,
   "metadata": {},
   "outputs": [],
   "source": [
    "data.index.get_level_values(level=0).unique()"
   ]
  },
  {
   "cell_type": "code",
   "execution_count": null,
   "metadata": {},
   "outputs": [],
   "source": [
    "stk = '000905'\n",
    "idx_slice = pd.IndexSlice\n",
    "stk_data_raw = data.loc[idx_slice[stk,:]]"
   ]
  },
  {
   "cell_type": "code",
   "execution_count": null,
   "metadata": {},
   "outputs": [],
   "source": [
    "stk_data = stk_data_raw.reset_index().reset_index()"
   ]
  },
  {
   "cell_type": "code",
   "execution_count": null,
   "metadata": {},
   "outputs": [],
   "source": [
    "fig, ax = plt.subplots(1, figsize=figsize)\n",
    "stk_data['close'].plot(x='index', y='close', figsize=figsize, ax=ax)\n",
    "stk_data[stk_data['label2'] == 2].plot.scatter(x='index', y='close', s=20, c='r', figsize=figsize, ax=ax)\n",
    "stk_data[stk_data['label2'] == 0].plot.scatter(x='index', y='close', s=20, c='g', figsize=figsize, ax=ax)\n",
    "stk_data[stk_data['label2'] == 1].plot.scatter(x='index', y='close', s=20, c='b', figsize=figsize, ax=ax)\n",
    "plt.show()"
   ]
  },
  {
   "cell_type": "code",
   "execution_count": null,
   "metadata": {},
   "outputs": [],
   "source": [
    "result = pickle.load(open(os.path.join(sub_dir, 'performances.pkl'), 'rb'))"
   ]
  },
  {
   "cell_type": "code",
   "execution_count": null,
   "metadata": {},
   "outputs": [],
   "source": [
    "validate_result = result['validate']\n",
    "test_result = result['test']"
   ]
  },
  {
   "cell_type": "code",
   "execution_count": null,
   "metadata": {},
   "outputs": [],
   "source": [
    "close_price = stk_data_raw['close']"
   ]
  },
  {
   "cell_type": "code",
   "execution_count": null,
   "metadata": {},
   "outputs": [],
   "source": [
    "close_price.head()"
   ]
  },
  {
   "cell_type": "code",
   "execution_count": null,
   "metadata": {},
   "outputs": [],
   "source": [
    "vy = validate_result['Y']\n",
    "ty = test_result['Y']"
   ]
  },
  {
   "cell_type": "code",
   "execution_count": null,
   "metadata": {},
   "outputs": [],
   "source": [
    "vy0 = validate_result['Y0']\n",
    "ty0 = test_result['Y0']\n",
    "tvy0 = pd.concat([vy0, ty0], axis=0)"
   ]
  },
  {
   "cell_type": "code",
   "execution_count": null,
   "metadata": {},
   "outputs": [],
   "source": [
    "tvy0.head(64).head(10)"
   ]
  },
  {
   "cell_type": "code",
   "execution_count": null,
   "metadata": {},
   "outputs": [],
   "source": [
    "tvy0.head(128).tail(64).head(10)"
   ]
  },
  {
   "cell_type": "code",
   "execution_count": null,
   "metadata": {},
   "outputs": [],
   "source": [
    "test = pd.concat([tvy0.map(lambda x: x[0]), \n",
    "                  tvy0.map(lambda x: x[1]), \n",
    "                  tvy0.map(lambda x: x[2])], axis=1)"
   ]
  },
  {
   "cell_type": "code",
   "execution_count": null,
   "metadata": {},
   "outputs": [],
   "source": [
    "plt.close()\n",
    "test.plot(figsize=figsize)\n",
    "plt.show()"
   ]
  },
  {
   "cell_type": "code",
   "execution_count": null,
   "metadata": {},
   "outputs": [],
   "source": [
    "y = pd.concat([tvy0.map(np.argmax), tvy0.map(np.max)], axis=1)"
   ]
  },
  {
   "cell_type": "code",
   "execution_count": null,
   "metadata": {},
   "outputs": [],
   "source": [
    "y= y.reset_index().set_index('date').drop(columns=['code'])"
   ]
  },
  {
   "cell_type": "code",
   "execution_count": null,
   "metadata": {},
   "outputs": [],
   "source": [
    "y.columns = ['label', 'prob']"
   ]
  },
  {
   "cell_type": "code",
   "execution_count": null,
   "metadata": {},
   "outputs": [],
   "source": [
    "predict = pd.concat([close_price, y], axis=1).dropna()"
   ]
  },
  {
   "cell_type": "code",
   "execution_count": null,
   "metadata": {},
   "outputs": [],
   "source": [
    "plt.close()\n",
    "predict['prob'].plot(figsize=figsize)\n",
    "plt.show()"
   ]
  },
  {
   "cell_type": "code",
   "execution_count": null,
   "metadata": {},
   "outputs": [],
   "source": [
    "predict['pct_changes'] = predict['close'].pct_change()"
   ]
  },
  {
   "cell_type": "code",
   "execution_count": null,
   "metadata": {},
   "outputs": [],
   "source": [
    "predict['label'] = predict['label'] -1"
   ]
  },
  {
   "cell_type": "code",
   "execution_count": null,
   "metadata": {},
   "outputs": [],
   "source": [
    "predict['label'] = predict['label'].shift(1)"
   ]
  },
  {
   "cell_type": "code",
   "execution_count": null,
   "metadata": {},
   "outputs": [],
   "source": [
    "predict['profit'] = predict['label'] * predict['pct_changes']"
   ]
  },
  {
   "cell_type": "code",
   "execution_count": null,
   "metadata": {},
   "outputs": [],
   "source": [
    "predict = predict.fillna(0)"
   ]
  },
  {
   "cell_type": "code",
   "execution_count": null,
   "metadata": {},
   "outputs": [],
   "source": [
    "predict['profit2'] = 0"
   ]
  },
  {
   "cell_type": "code",
   "execution_count": null,
   "metadata": {},
   "outputs": [],
   "source": [
    "predict.loc[predict['prob']>0.7, 'profit2'] = predict.loc[predict['prob']>0.7, 'profit']"
   ]
  },
  {
   "cell_type": "code",
   "execution_count": null,
   "metadata": {},
   "outputs": [],
   "source": [
    "(predict['profit2'] + 1).cumprod().plot(figsize=(21, 7))\n",
    "(predict['pct_changes'] + 1).cumprod().plot(figsize=(21, 7))"
   ]
  },
  {
   "cell_type": "code",
   "execution_count": null,
   "metadata": {},
   "outputs": [],
   "source": [
    "stk_predict = predict.reset_index().reset_index()\n",
    "fig, ax = plt.subplots(1, figsize=figsize)\n",
    "stk_predict.plot(x='level_0', y='close', figsize=figsize, ax=ax)\n",
    "# stk_predict.plot(x='level_0', y='prob', figsize=figsize, ax=ax)\n",
    "stk_predict[stk_predict['label'] == 0].plot.scatter(x='level_0', y='close', s=20, c='g', figsize=figsize, ax=ax)\n",
    "stk_predict[stk_predict['label'] == 2].plot.scatter(x='level_0', y='close', s=20, c='r', figsize=figsize, ax=ax)\n",
    "stk_predict[stk_predict['label'] == 0].plot.scatter(x='level_0', y='close', s=20, c='g', figsize=figsize, ax=ax)"
   ]
  },
  {
   "cell_type": "code",
   "execution_count": null,
   "metadata": {},
   "outputs": [],
   "source": [
    "plt.close()\n",
    "test_result['Y'].plot()\n",
    "plt.show()"
   ]
  },
  {
   "cell_type": "code",
   "execution_count": null,
   "metadata": {},
   "outputs": [],
   "source": [
    "stk_data.columns"
   ]
  },
  {
   "cell_type": "code",
   "execution_count": null,
   "metadata": {},
   "outputs": [],
   "source": [
    "i_columns = ['ma_1', 'ma_2', 'ma_3', 'ma_5', 'ma_8', 'ma_13', 'ma_21', 'ma_34', 'ma_55', 'ma_60', 'ma_120', 'ma_240', 'ma_480']\n",
    "# i_columns = ['open_close_960', 'high_close_960', 'low_close_960']\n",
    "# i_columns = ['pct_chg_960']\n",
    "# i_columns = ['volume_960']\n",
    "stk_data.loc[:, i_columns].plot(figsize=figsize)\n",
    "plt.show()"
   ]
  },
  {
   "cell_type": "code",
   "execution_count": null,
   "metadata": {},
   "outputs": [],
   "source": [
    "df_historys = pd.DataFrame()\n",
    "df_params = pd.DataFrame()\n",
    "df_validate = pd.DataFrame()\n",
    "df_test = pd.DataFrame()\n",
    "for root, dirs, files in os.walk(test_dir, topdown=False):\n",
    "    identity = os.path.basename(root)\n",
    "    for name in files:\n",
    "        if name == 'history.pkl':\n",
    "            with open(os.path.join(root, name), 'rb') as f:\n",
    "                history = pickle.load(f)\n",
    "                df_historys = df_historys.append({'id': identity, 'history': history}, ignore_index=True)\n",
    "        if name == 'params.pkl':\n",
    "            with open(os.path.join(root, name), 'rb') as f:\n",
    "                params = pickle.load(f)\n",
    "                params['id'] = identity\n",
    "                df_params = df_params.append(params, ignore_index=True)\n",
    "        if name == 'performances.pkl':\n",
    "            with open(os.path.join(root, name), 'rb') as f:\n",
    "                performances = pickle.load(f)\n",
    "                \n",
    "                validate = performances['validate']\n",
    "                validate['id'] = identity\n",
    "                df_validate = df_validate.append(validate, ignore_index=True)\n",
    "                \n",
    "                test = performances['test']\n",
    "                test['id'] = identity\n",
    "                df_test = df_test.append(test, ignore_index=True)"
   ]
  },
  {
   "cell_type": "code",
   "execution_count": null,
   "metadata": {},
   "outputs": [],
   "source": [
    "new_test_columns = []\n",
    "for col in df_test.columns.values.tolist():\n",
    "    if col != 'id': \n",
    "        new_test_columns.append('test_' + col)\n",
    "    else:\n",
    "        new_test_columns.append(col)\n",
    "df_test.columns = new_test_columns"
   ]
  },
  {
   "cell_type": "code",
   "execution_count": null,
   "metadata": {},
   "outputs": [],
   "source": [
    "results = []\n",
    "for result in [df_historys, df_params, df_validate, df_test]:\n",
    "    result = result.set_index('id')\n",
    "    results.append(result)\n",
    "results = pd.concat(results, axis=1)\n",
    "results = results.sort_values(['test_annual_return'], ascending=False)"
   ]
  },
  {
   "cell_type": "code",
   "execution_count": null,
   "metadata": {},
   "outputs": [],
   "source": [
    "results.columns"
   ]
  },
  {
   "cell_type": "code",
   "execution_count": null,
   "metadata": {},
   "outputs": [],
   "source": [
    "i_columns = ['activation', 'batch_size', 'dropout', 'epochs',\n",
    "       'is_BN_1', 'is_BN_2', 'is_BN_3', 'lr',\n",
    "       'recurrent_dropout', 'shuffle', 'time_steps', 'units1', 'units2',\n",
    "       'units3', 'annual_return', 'sharpe_ratio', 'test_annual_return', 'test_sharpe_ratio']"
   ]
  },
  {
   "cell_type": "code",
   "execution_count": null,
   "metadata": {},
   "outputs": [],
   "source": [
    "i_results = results.loc[:, i_columns]"
   ]
  },
  {
   "cell_type": "code",
   "execution_count": null,
   "metadata": {
    "scrolled": false
   },
   "outputs": [],
   "source": [
    "i_results.loc[:, ['annual_return', 'sharpe_ratio', 'test_annual_return', 'test_sharpe_ratio']].plot(figsize=(21, 7))"
   ]
  },
  {
   "cell_type": "code",
   "execution_count": null,
   "metadata": {
    "scrolled": false
   },
   "outputs": [],
   "source": [
    "i_results.head()"
   ]
  },
  {
   "cell_type": "code",
   "execution_count": null,
   "metadata": {
    "scrolled": false
   },
   "outputs": [],
   "source": [
    "top = 20\n",
    "for i in range(top):\n",
    "    validate_returns = results.iloc[i]['returns']\n",
    "    test_returns = results.iloc[i]['test_returns']\n",
    "    (validate_returns.unstack(level=0).fillna(0).mean(axis=1) + 1).cumprod().plot(figsize=(21, 7))\n",
    "    (test_returns.unstack(level=0).fillna(0).mean(axis=1) + 1).cumprod().plot(figsize=(21, 7))\n",
    "    plt.show()"
   ]
  },
  {
   "cell_type": "code",
   "execution_count": null,
   "metadata": {
    "scrolled": false
   },
   "outputs": [],
   "source": [
    "for i in range(top):\n",
    "    validate_returns = results.iloc[i]['returns']\n",
    "    test_returns = results.iloc[i]['test_returns']\n",
    "    validate_returns_per_stk = (validate_returns.unstack(level=0).fillna(0) + 1).cumprod()\n",
    "    test_returns_per_stk = (test_returns.unstack(level=0).fillna(0) + 1).cumprod()\n",
    "    returns_per_stk = pd.concat([validate_returns_per_stk, test_returns_per_stk], axis=1)\n",
    "    returns_per_stk.plot(figsize=(21, 7))\n",
    "    plt.show()"
   ]
  },
  {
   "cell_type": "code",
   "execution_count": null,
   "metadata": {},
   "outputs": [],
   "source": [
    "data_set = pickle.load(open(os.path.join(test_dir, 'data.pkl'), 'rb'))"
   ]
  },
  {
   "cell_type": "code",
   "execution_count": null,
   "metadata": {},
   "outputs": [],
   "source": [
    "data_set['test']"
   ]
  },
  {
   "cell_type": "code",
   "execution_count": null,
   "metadata": {
    "scrolled": false
   },
   "outputs": [],
   "source": [
    "idx_slice = pd.IndexSlice\n",
    "data_set['test'].loc[idx_slice[('603228.XSHG',)]]"
   ]
  },
  {
   "cell_type": "code",
   "execution_count": null,
   "metadata": {},
   "outputs": [],
   "source": [
    "validate = data_set['validate']\n",
    "test = data_set['test']\n",
    "validate = validate.drop(columns=['label'])\n",
    "test = test.drop(columns=['label'])"
   ]
  },
  {
   "cell_type": "code",
   "execution_count": null,
   "metadata": {},
   "outputs": [],
   "source": [
    "n = 9\n",
    "validate_Y = results.iloc[n]['Y']\n",
    "test_Y = results.iloc[n]['test_Y']"
   ]
  },
  {
   "cell_type": "code",
   "execution_count": null,
   "metadata": {},
   "outputs": [],
   "source": [
    "validate1  = pd.concat([validate, validate_Y], axis=1)\n",
    "test1  = pd.concat([test, test_Y], axis=1)"
   ]
  },
  {
   "cell_type": "code",
   "execution_count": null,
   "metadata": {},
   "outputs": [],
   "source": [
    "validate1.index.get_level_values(level=0).unique()"
   ]
  },
  {
   "cell_type": "code",
   "execution_count": null,
   "metadata": {},
   "outputs": [],
   "source": [
    "idx_slice = pd.IndexSlice"
   ]
  },
  {
   "cell_type": "code",
   "execution_count": null,
   "metadata": {},
   "outputs": [],
   "source": [
    "stk_predict = test1.loc[idx_slice[('000158.XSHE',)]]\n",
    "stk_predict = stk_predict.reset_index().reset_index()"
   ]
  },
  {
   "cell_type": "code",
   "execution_count": null,
   "metadata": {},
   "outputs": [],
   "source": [
    "fig, ax = plt.subplots(1, figsize=(21, 7))\n",
    "stk_predict['close'].plot(x='index', y='close', figsize=(21, 7), ax=ax)\n",
    "stk_predict[stk_predict['label'] == 2].plot.scatter(x='index', y='close', s=20, c='r', figsize=(21, 7), ax=ax)\n",
    "stk_predict[stk_predict['label'] == 0].plot.scatter(x='index', y='close', s=20, c='g', figsize=(21, 7), ax=ax)"
   ]
  },
  {
   "cell_type": "code",
   "execution_count": null,
   "metadata": {},
   "outputs": [],
   "source": []
  }
 ],
 "metadata": {
  "kernelspec": {
   "display_name": "Python 3",
   "language": "python",
   "name": "python3"
  },
  "language_info": {
   "codemirror_mode": {
    "name": "ipython",
    "version": 3
   },
   "file_extension": ".py",
   "mimetype": "text/x-python",
   "name": "python",
   "nbconvert_exporter": "python",
   "pygments_lexer": "ipython3",
   "version": "3.5.4"
  }
 },
 "nbformat": 4,
 "nbformat_minor": 1
}

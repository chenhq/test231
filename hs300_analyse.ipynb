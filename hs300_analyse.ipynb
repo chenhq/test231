{
 "cells": [
  {
   "cell_type": "code",
   "execution_count": 1,
   "metadata": {},
   "outputs": [],
   "source": [
    "%matplotlib inline\n",
    "import matplotlib.pyplot as plt\n",
    "import numpy as np\n",
    "import pandas as pd\n",
    "import os\n",
    "os.environ[\"CUDA_DEVICE_ORDER\"] = \"PCI_BUS_ID\"   # see issue #152\n",
    "os.environ[\"CUDA_VISIBLE_DEVICES\"] = \"\""
   ]
  },
  {
   "cell_type": "code",
   "execution_count": 2,
   "metadata": {},
   "outputs": [
    {
     "name": "stderr",
     "output_type": "stream",
     "text": [
      "Using TensorFlow backend.\n"
     ]
    }
   ],
   "source": [
    "from keras.models import load_model\n",
    "import os\n",
    "from keras.initializers import glorot_uniform\n",
    "from keras.initializers import glorot_uniform\n",
    "from keras.utils.generic_utils import get_custom_objects\n",
    "import _pickle as pickle\n",
    "from model import model_predict\n",
    "from data_prepare import categorical_factory\n",
    "from performance import performance_factory"
   ]
  },
  {
   "cell_type": "code",
   "execution_count": 3,
   "metadata": {},
   "outputs": [
    {
     "name": "stdout",
     "output_type": "stream",
     "text": [
      "0.35\n",
      "loading file ./params_select_test_hs300_model03/6dba7718-f767-11e7-b733-525400f48026/acc_0.35.h5...\n",
      "0.4\n",
      "loading file ./params_select_test_hs300_model03/6dba7718-f767-11e7-b733-525400f48026/acc_0.4.h5...\n",
      "0.45\n",
      "loading file ./params_select_test_hs300_model03/6dba7718-f767-11e7-b733-525400f48026/acc_0.45.h5...\n",
      "0.5\n",
      "loading file ./params_select_test_hs300_model03/6dba7718-f767-11e7-b733-525400f48026/acc_0.5.h5...\n",
      "0.55\n",
      "loading file ./params_select_test_hs300_model03/6dba7718-f767-11e7-b733-525400f48026/acc_0.55.h5...\n",
      "0.6\n",
      "loading file ./params_select_test_hs300_model03/6dba7718-f767-11e7-b733-525400f48026/acc_0.6.h5...\n",
      "0.65\n",
      "loading file ./params_select_test_hs300_model03/6dba7718-f767-11e7-b733-525400f48026/acc_0.65.h5...\n",
      "0.7\n",
      "0.75\n",
      "0.8\n",
      "0.9\n",
      "0.95\n"
     ]
    }
   ],
   "source": [
    "function = \"params_select\"\n",
    "# # sz50\n",
    "# uid1 = 'test_model01'\n",
    "# uid2 = 'fc7fbff0-f5e9-11e7-b733-525400f48026'\n",
    "\n",
    "# hs300\n",
    "uid1 = 'test_hs300_model03'\n",
    "# uid2 = 'e0a5c034-f690-11e7-b733-525400f48026'\n",
    "uid2 = '6dba7718-f767-11e7-b733-525400f48026'\n",
    "\n",
    "# # zz500\n",
    "# uid1 = 'test_zz500_model01'\n",
    "# uid2 = 'c5d6287c-f68e-11e7-b733-525400f48026'\n",
    "\n",
    "namespace = function + '_' + uid1\n",
    "log_dir = os.path.join('./', namespace)\n",
    "sub_log_dir = os.path.join(log_dir, uid2)\n",
    "\n",
    "\n",
    "models = {}\n",
    "measure = 'acc'\n",
    "measure_values = [0.35, 0.4, 0.45, 0.5, 0.55, 0.60, 0.65, 0.7, 0.75, 0.8, 0.9, 0.95]\n",
    "for value in measure_values:\n",
    "    print(value)\n",
    "    model_file = os.path.join(sub_log_dir, '{}_{}.h5'.format(measure, value))\n",
    "    if os.path.exists(model_file):\n",
    "        print('loading file {}...'.format(model_file))\n",
    "        models[value] = load_model(model_file)"
   ]
  },
  {
   "cell_type": "code",
   "execution_count": 4,
   "metadata": {},
   "outputs": [],
   "source": [
    "to_be_predict_set = pickle.load(open(os.path.join(sub_log_dir, 'to_be_predict_set.pkl'), 'rb'))"
   ]
  },
  {
   "cell_type": "code",
   "execution_count": 5,
   "metadata": {},
   "outputs": [],
   "source": [
    "class_list = [i for i in range(3)]\n",
    "nb_class = len(class_list)\n",
    "_, reverse_categorical = categorical_factory(class_list)\n",
    "performance_func = performance_factory(reverse_categorical, \n",
    "                                       performance_types=['Y0', 'Y', 'returns', \n",
    "                                                          'cum_returns', 'annual_return','sharpe_ratio'], \n",
    "                                       mid_type=(nb_class-1) / 2.0, epsilon=0.3)"
   ]
  },
  {
   "cell_type": "code",
   "execution_count": 6,
   "metadata": {},
   "outputs": [
    {
     "name": "stdout",
     "output_type": "stream",
     "text": [
      "54/54 [==============================] - 1s 20ms/step\n",
      "59/59 [==============================] - 0s 2ms/step\n",
      "54/54 [==============================] - 1s 19ms/step\n",
      "59/59 [==============================] - 0s 2ms/step\n",
      "54/54 [==============================] - 1s 20ms/step\n",
      "59/59 [==============================] - 0s 2ms/step\n",
      "54/54 [==============================] - 1s 21ms/step\n",
      "59/59 [==============================] - 0s 2ms/step\n",
      "54/54 [==============================] - 1s 19ms/step\n",
      "59/59 [==============================] - 0s 2ms/step\n",
      "54/54 [==============================] - 1s 21ms/step\n",
      "59/59 [==============================] - 0s 2ms/step\n",
      "54/54 [==============================] - 1s 19ms/step\n",
      "59/59 [==============================] - 0s 2ms/step\n"
     ]
    }
   ],
   "source": [
    "performances = {}\n",
    "for value in measure_values:\n",
    "    if value in models:\n",
    "        model = models[value]\n",
    "        for tag in to_be_predict_set:\n",
    "            performances['{}_{}'.format(value, tag)] = model_predict(model, to_be_predict_set[tag][0], to_be_predict_set[tag][1], \n",
    "                                              performance_func)\n",
    "            scores = model.evaluate(to_be_predict_set[tag][1], to_be_predict_set[tag][2], verbose=1)\n",
    "            performances['{}_{}'.format(value, tag)]['loss'] = scores[0]\n",
    "            performances['{}_{}'.format(value, tag)]['metrics'] = scores[1]"
   ]
  },
  {
   "cell_type": "code",
   "execution_count": 7,
   "metadata": {},
   "outputs": [
    {
     "data": {
      "text/plain": [
       "dict_keys(['Y0', 'sharpe_ratio', 'annual_return', 'Y', 'metrics', 'loss', 'cum_returns', 'returns'])"
      ]
     },
     "execution_count": 7,
     "metadata": {},
     "output_type": "execute_result"
    }
   ],
   "source": [
    "performances['0.5_validate'].keys()"
   ]
  },
  {
   "cell_type": "code",
   "execution_count": 8,
   "metadata": {},
   "outputs": [],
   "source": [
    "df_perf = pd.DataFrame(columns=['tag', 'sharpe_ratio', 'annual_return'])\n",
    "test_type = 'validate'\n",
    "for value in measure_values:\n",
    "    tag = '{}_{}'.format(value, test_type)\n",
    "    if tag in performances:\n",
    "        df_perf.loc[len(df_perf)] = [tag, performances[tag]['sharpe_ratio'], performances[tag]['annual_return']]\n",
    "        "
   ]
  },
  {
   "cell_type": "code",
   "execution_count": 9,
   "metadata": {},
   "outputs": [
    {
     "data": {
      "text/html": [
       "<div>\n",
       "<style scoped>\n",
       "    .dataframe tbody tr th:only-of-type {\n",
       "        vertical-align: middle;\n",
       "    }\n",
       "\n",
       "    .dataframe tbody tr th {\n",
       "        vertical-align: top;\n",
       "    }\n",
       "\n",
       "    .dataframe thead th {\n",
       "        text-align: right;\n",
       "    }\n",
       "</style>\n",
       "<table border=\"1\" class=\"dataframe\">\n",
       "  <thead>\n",
       "    <tr style=\"text-align: right;\">\n",
       "      <th></th>\n",
       "      <th>tag</th>\n",
       "      <th>sharpe_ratio</th>\n",
       "      <th>annual_return</th>\n",
       "    </tr>\n",
       "  </thead>\n",
       "  <tbody>\n",
       "    <tr>\n",
       "      <th>5</th>\n",
       "      <td>0.6_validate</td>\n",
       "      <td>0.089818</td>\n",
       "      <td>-0.001994</td>\n",
       "    </tr>\n",
       "    <tr>\n",
       "      <th>1</th>\n",
       "      <td>0.4_validate</td>\n",
       "      <td>0.062980</td>\n",
       "      <td>-0.014199</td>\n",
       "    </tr>\n",
       "    <tr>\n",
       "      <th>4</th>\n",
       "      <td>0.55_validate</td>\n",
       "      <td>0.041512</td>\n",
       "      <td>-0.020009</td>\n",
       "    </tr>\n",
       "    <tr>\n",
       "      <th>0</th>\n",
       "      <td>0.35_validate</td>\n",
       "      <td>-0.000083</td>\n",
       "      <td>-0.027458</td>\n",
       "    </tr>\n",
       "    <tr>\n",
       "      <th>3</th>\n",
       "      <td>0.5_validate</td>\n",
       "      <td>-0.073344</td>\n",
       "      <td>-0.053394</td>\n",
       "    </tr>\n",
       "    <tr>\n",
       "      <th>2</th>\n",
       "      <td>0.45_validate</td>\n",
       "      <td>-0.154370</td>\n",
       "      <td>-0.055602</td>\n",
       "    </tr>\n",
       "    <tr>\n",
       "      <th>6</th>\n",
       "      <td>0.65_validate</td>\n",
       "      <td>-0.278420</td>\n",
       "      <td>-0.086950</td>\n",
       "    </tr>\n",
       "  </tbody>\n",
       "</table>\n",
       "</div>"
      ],
      "text/plain": [
       "             tag  sharpe_ratio  annual_return\n",
       "5   0.6_validate      0.089818      -0.001994\n",
       "1   0.4_validate      0.062980      -0.014199\n",
       "4  0.55_validate      0.041512      -0.020009\n",
       "0  0.35_validate     -0.000083      -0.027458\n",
       "3   0.5_validate     -0.073344      -0.053394\n",
       "2  0.45_validate     -0.154370      -0.055602\n",
       "6  0.65_validate     -0.278420      -0.086950"
      ]
     },
     "execution_count": 9,
     "metadata": {},
     "output_type": "execute_result"
    }
   ],
   "source": [
    "df_perf.sort_values('sharpe_ratio', ascending=False)"
   ]
  },
  {
   "cell_type": "code",
   "execution_count": 16,
   "metadata": {},
   "outputs": [],
   "source": [
    "test_type = 'test'\n",
    "value = 0.6\n",
    "weight = 0.7\n",
    "\n",
    "tag = '{}_{}'.format(value, test_type)\n",
    "argmax = performances[tag]['Y0'].map(np.argmax) \n",
    "max_value = performances[tag]['Y0'].map(np.max)\n",
    "signal = pd.concat([argmax, max_value], axis=1)\n",
    "signal.columns = ['signal', 'weight']\n",
    "pct_chg = to_be_predict_set[test_type][0]['pct_chg']\n",
    "\n",
    "cal_returns = pd.concat([signal.shift(1), pct_chg], axis=1)\n",
    "cal_returns['returns'] = np.nan\n",
    "cond = (cal_returns['weight'] > weight) & (cal_returns['signal'] > 0)\n",
    "returns = cal_returns['signal'] * cal_returns['pct_chg']\n",
    "returns[pct_chg.shift(1) > 0.098] = np.nan\n",
    "cal_returns.loc[cond, 'returns'] =  returns.loc[cond]"
   ]
  },
  {
   "cell_type": "code",
   "execution_count": 17,
   "metadata": {},
   "outputs": [
    {
     "name": "stderr",
     "output_type": "stream",
     "text": [
      "/home/ubuntu/.pyenv/versions/3.5.4/lib/python3.5/site-packages/pandas/core/frame.py:4910: RuntimeWarning: Mean of empty slice\n",
      "  labels=labels)\n"
     ]
    },
    {
     "data": {
      "text/plain": [
       "<matplotlib.axes._subplots.AxesSubplot at 0x7fe91e800ba8>"
      ]
     },
     "execution_count": 17,
     "metadata": {},
     "output_type": "execute_result"
    },
    {
     "data": {
      "image/png": "[encoded data removed]",
      "text/plain": [
       "<matplotlib.figure.Figure at 0x7fe811aabfd0>"
      ]
     },
     "metadata": {},
     "output_type": "display_data"
    }
   ],
   "source": [
    "returns = cal_returns['returns'].unstack(level=0).apply(np.nanmean,axis=1).fillna(0)\n",
    "(returns + 1).cumprod().plot(figsize=(21, 7))"
   ]
  },
  {
   "cell_type": "code",
   "execution_count": 12,
   "metadata": {},
   "outputs": [],
   "source": [
    "import empyrical"
   ]
  },
  {
   "cell_type": "code",
   "execution_count": 13,
   "metadata": {},
   "outputs": [
    {
     "data": {
      "text/plain": [
       "nan"
      ]
     },
     "execution_count": 13,
     "metadata": {},
     "output_type": "execute_result"
    }
   ],
   "source": [
    "empyrical.sharpe_ratio(returns)"
   ]
  },
  {
   "cell_type": "code",
   "execution_count": null,
   "metadata": {},
   "outputs": [],
   "source": []
  }
 ],
 "metadata": {
  "kernelspec": {
   "display_name": "Python 3",
   "language": "python",
   "name": "python3"
  },
  "language_info": {
   "codemirror_mode": {
    "name": "ipython",
    "version": 3
   },
   "file_extension": ".py",
   "mimetype": "text/x-python",
   "name": "python",
   "nbconvert_exporter": "python",
   "pygments_lexer": "ipython3",
   "version": "3.5.4"
  }
 },
 "nbformat": 4,
 "nbformat_minor": 2
}

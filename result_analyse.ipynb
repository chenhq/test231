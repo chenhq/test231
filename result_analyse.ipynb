{
 "cells": [
  {
   "cell_type": "code",
   "execution_count": null,
   "metadata": {},
   "outputs": [],
   "source": [
    "%matplotlib inline\n",
    "import matplotlib.pylab as plt\n",
    "import seaborn as sbn; sbn.set()\n",
    "import os\n",
    "import pandas as pd\n",
    "import _pickle as pickle"
   ]
  },
  {
   "cell_type": "code",
   "execution_count": null,
   "metadata": {},
   "outputs": [],
   "source": [
    "test_name = 'params_select'\n",
    "test_id = 'test01'\n",
    "test_dir = './' + test_name + '_' + test_id + '/'\n",
    "\n",
    "df_historys = pd.DataFrame()\n",
    "df_params = pd.DataFrame()\n",
    "df_validate = pd.DataFrame()\n",
    "df_test = pd.DataFrame()\n",
    "for root, dirs, files in os.walk(test_dir, topdown=False):\n",
    "    identity = os.path.basename(root)\n",
    "    for name in files:\n",
    "        if name == 'history.pkl':\n",
    "            with open(os.path.join(root, name), 'rb') as f:\n",
    "                history = pickle.load(f)\n",
    "                df_historys = df_historys.append({'id': identity, 'history': history}, ignore_index=True)\n",
    "        if name == 'params.pkl':\n",
    "            with open(os.path.join(root, name), 'rb') as f:\n",
    "                params = pickle.load(f)\n",
    "                params['id'] = identity\n",
    "                df_params = df_params.append(params, ignore_index=True)\n",
    "        if name == 'validate.pkl':\n",
    "            with open(os.path.join(root, name), 'rb') as f:\n",
    "                validate = pickle.load(f)\n",
    "                validate['id'] = identity\n",
    "                df_validate = df_validate.append(validate, ignore_index=True)\n",
    "        if name == 'test.pkl':\n",
    "            with open(os.path.join(root, name), 'rb') as f:\n",
    "                test = pickle.load(f)\n",
    "                test['id'] = identity\n",
    "                df_test = df_test.append(test, ignore_index=True)"
   ]
  },
  {
   "cell_type": "code",
   "execution_count": null,
   "metadata": {},
   "outputs": [],
   "source": [
    "new_test_columns = []\n",
    "for col in df_test.columns.values.tolist():\n",
    "    if col != 'id': \n",
    "        new_test_columns.append('test_' + col)\n",
    "    else:\n",
    "        new_test_columns.append(col)\n",
    "df_test.columns = new_test_columns"
   ]
  },
  {
   "cell_type": "code",
   "execution_count": null,
   "metadata": {},
   "outputs": [],
   "source": [
    "results = []\n",
    "for result in [df_historys, df_params, df_validate, df_test]:\n",
    "    result = result.set_index('id')\n",
    "    results.append(result)\n",
    "results = pd.concat(results, axis=1)\n",
    "results = results.sort_values(['sharpe_ratio'], ascending=False)"
   ]
  },
  {
   "cell_type": "code",
   "execution_count": null,
   "metadata": {},
   "outputs": [],
   "source": [
    "results.columns"
   ]
  },
  {
   "cell_type": "code",
   "execution_count": null,
   "metadata": {},
   "outputs": [],
   "source": [
    "i_columns = ['activation', 'batch_size', 'dropout', 'epochs',\n",
    "       'is_BN_1', 'is_BN_2', 'is_BN_3', 'lr',\n",
    "       'recurrent_dropout', 'shuffle', 'time_steps', 'units1', 'units2',\n",
    "       'units3', 'annual_return', 'sharpe_ratio', 'test_annual_return', 'test_sharpe_ratio']"
   ]
  },
  {
   "cell_type": "code",
   "execution_count": null,
   "metadata": {},
   "outputs": [],
   "source": [
    "i_results = results.loc[:, i_columns]"
   ]
  },
  {
   "cell_type": "code",
   "execution_count": null,
   "metadata": {
    "scrolled": false
   },
   "outputs": [],
   "source": [
    "i_results.loc[:, ['annual_return', 'sharpe_ratio', 'test_annual_return', 'test_sharpe_ratio']].plot(figsize=(21, 7))"
   ]
  },
  {
   "cell_type": "code",
   "execution_count": null,
   "metadata": {},
   "outputs": [],
   "source": [
    "i_results.head()"
   ]
  },
  {
   "cell_type": "code",
   "execution_count": null,
   "metadata": {
    "scrolled": false
   },
   "outputs": [],
   "source": [
    "top = 20\n",
    "for i in range(top):\n",
    "    validate_returns = results.iloc[i]['returns']\n",
    "    test_returns = results.iloc[i]['test_returns']\n",
    "    (validate_returns.unstack(level=0).fillna(0).mean(axis=1) + 1).cumprod().plot(figsize=(21, 7))\n",
    "    (test_returns.unstack(level=0).fillna(0).mean(axis=1) + 1).cumprod().plot(figsize=(21, 7))\n",
    "    plt.show()"
   ]
  },
  {
   "cell_type": "code",
   "execution_count": null,
   "metadata": {
    "scrolled": false
   },
   "outputs": [],
   "source": [
    "for i in range(top):\n",
    "    validate_returns = results.iloc[i]['returns']\n",
    "    test_returns = results.iloc[i]['test_returns']\n",
    "    validate_returns_per_stk = (validate_returns.unstack(level=0).fillna(0) + 1).cumprod()\n",
    "    test_returns_per_stk = (test_returns.unstack(level=0).fillna(0) + 1).cumprod()\n",
    "    returns_per_stk = pd.concat([validate_returns_per_stk, test_returns_per_stk], axis=1)\n",
    "    returns_per_stk.plot(figsize=(21, 7))\n",
    "    plt.show()"
   ]
  },
  {
   "cell_type": "code",
   "execution_count": null,
   "metadata": {},
   "outputs": [],
   "source": [
    "data_set = pickle.load(open(os.path.join(test_dir, 'data.pkl'), 'rb'))"
   ]
  },
  {
   "cell_type": "code",
   "execution_count": null,
   "metadata": {},
   "outputs": [],
   "source": [
    "data_set['test']"
   ]
  },
  {
   "cell_type": "code",
   "execution_count": null,
   "metadata": {
    "scrolled": false
   },
   "outputs": [],
   "source": [
    "idx_slice = pd.IndexSlice\n",
    "data_set['test'].loc[idx_slice[('603228.XSHG',)]]"
   ]
  },
  {
   "cell_type": "code",
   "execution_count": null,
   "metadata": {},
   "outputs": [],
   "source": [
    "validate = data_set['validate']\n",
    "test = data_set['test']\n",
    "validate = validate.drop(columns=['label'])\n",
    "test = test.drop(columns=['label'])"
   ]
  },
  {
   "cell_type": "code",
   "execution_count": null,
   "metadata": {},
   "outputs": [],
   "source": [
    "n = 9\n",
    "validate_Y = results.iloc[n]['Y']\n",
    "test_Y = results.iloc[n]['test_Y']"
   ]
  },
  {
   "cell_type": "code",
   "execution_count": null,
   "metadata": {},
   "outputs": [],
   "source": [
    "validate1  = pd.concat([validate, validate_Y], axis=1)\n",
    "test1  = pd.concat([test, test_Y], axis=1)"
   ]
  },
  {
   "cell_type": "code",
   "execution_count": null,
   "metadata": {},
   "outputs": [],
   "source": [
    "validate1.index.get_level_values(level=0).unique()"
   ]
  },
  {
   "cell_type": "code",
   "execution_count": null,
   "metadata": {},
   "outputs": [],
   "source": [
    "idx_slice = pd.IndexSlice"
   ]
  },
  {
   "cell_type": "code",
   "execution_count": null,
   "metadata": {},
   "outputs": [],
   "source": [
    "stk_predict = test1.loc[idx_slice[('000158.XSHE',)]]\n",
    "stk_predict = stk_predict.reset_index().reset_index()"
   ]
  },
  {
   "cell_type": "code",
   "execution_count": null,
   "metadata": {},
   "outputs": [],
   "source": [
    "fig, ax = plt.subplots(1, figsize=(21, 7))\n",
    "stk_predict['close'].plot(x='index', y='close', figsize=(21, 7), ax=ax)\n",
    "stk_predict[stk_predict['label'] == 2].plot.scatter(x='index', y='close', s=20, c='r', figsize=(21, 7), ax=ax)\n",
    "stk_predict[stk_predict['label'] == 0].plot.scatter(x='index', y='close', s=20, c='g', figsize=(21, 7), ax=ax)"
   ]
  },
  {
   "cell_type": "code",
   "execution_count": null,
   "metadata": {},
   "outputs": [],
   "source": []
  }
 ],
 "metadata": {
  "kernelspec": {
   "display_name": "Python 3",
   "language": "python",
   "name": "python3"
  },
  "language_info": {
   "codemirror_mode": {
    "name": "ipython",
    "version": 3
   },
   "file_extension": ".py",
   "mimetype": "text/x-python",
   "name": "python",
   "nbconvert_exporter": "python",
   "pygments_lexer": "ipython3",
   "version": "3.5.4"
  }
 },
 "nbformat": 4,
 "nbformat_minor": 1
}
